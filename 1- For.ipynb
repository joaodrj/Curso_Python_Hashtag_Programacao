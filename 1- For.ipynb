{
 "cells": [
  {
   "cell_type": "markdown",
   "id": "715640a3",
   "metadata": {},
   "source": [
    "# For"
   ]
  },
  {
   "cell_type": "code",
   "execution_count": 4,
   "id": "cd735d74",
   "metadata": {},
   "outputs": [
    {
     "name": "stdout",
     "output_type": "stream",
     "text": [
      "0\n",
      "1\n",
      "2\n",
      "3\n",
      "4\n"
     ]
    }
   ],
   "source": [
    "for i in range(5):\n",
    "    print(i)"
   ]
  },
  {
   "cell_type": "code",
   "execution_count": 5,
   "id": "b0ee46c2",
   "metadata": {},
   "outputs": [
    {
     "name": "stdout",
     "output_type": "stream",
     "text": [
      "15000 undiades produzidas do itemcoca\n",
      "12000 undiades produzidas do itempepsi\n",
      "13000 undiades produzidas do itemguarana\n",
      "5000 undiades produzidas do itemsprite\n",
      "250 undiades produzidas do itemfanta\n"
     ]
    }
   ],
   "source": [
    "produtos = ['coca', 'pepsi', 'guarana', 'sprite', 'fanta']\n",
    "producao = [15000, 12000, 13000, 5000, 250]\n",
    "for i in range(5):\n",
    "    print('{} undiades produzidas do item{}'.format(producao[i],produtos[i]))"
   ]
  },
  {
   "cell_type": "code",
   "execution_count": 6,
   "id": "aa461c61",
   "metadata": {},
   "outputs": [
    {
     "name": "stdout",
     "output_type": "stream",
     "text": [
      "coca\n",
      "pepsi\n",
      "guarana\n",
      "sprite\n",
      "fanta\n"
     ]
    }
   ],
   "source": [
    "for i in produtos:\n",
    "    print(i)"
   ]
  },
  {
   "cell_type": "markdown",
   "id": "128c54ac",
   "metadata": {},
   "source": [
    "# For and if\n"
   ]
  },
  {
   "cell_type": "code",
   "execution_count": 14,
   "id": "1dffd8aa",
   "metadata": {},
   "outputs": [
    {
     "name": "stdout",
     "output_type": "stream",
     "text": [
      "6\n",
      "percentual de funcionarios que bateram a meta foi 26.09%\n"
     ]
    }
   ],
   "source": [
    "vendas = [1200, 300, 800, 1500, 1900, 2750, 400, 20, 23, 70, 90, 80, 1100, 999, 900, 880, 870, 50, 1111, 120, 300, 450, 800]\n",
    "meta = 1000\n",
    "\n",
    "qtd_bateu_meta = 0\n",
    "for venda in vendas:\n",
    "    if venda>=meta:\n",
    "        qtd_bateu_meta +=1\n",
    "        \n",
    "print(qtd_bateu_meta)\n",
    "quant_func = len(vendas)\n",
    "print(\"percentual de funcionarios que bateram a meta foi {:.2%}\".format(qtd_bateu_meta/quant_func))"
   ]
  },
  {
   "cell_type": "markdown",
   "id": "c3c051d2",
   "metadata": {},
   "source": [
    "# Enumerate"
   ]
  },
  {
   "cell_type": "code",
   "execution_count": 19,
   "id": "fd41f114",
   "metadata": {},
   "outputs": [
    {
     "name": "stdout",
     "output_type": "stream",
     "text": [
      "0 Maria\n",
      "1 José\n",
      "2 Antônio\n",
      "3 João\n",
      "4 Francisco\n",
      "5 Ana\n",
      "6 Luiz\n",
      "7 Paulo\n",
      "8 Carlos\n",
      "9 Manoel\n",
      "10 Pedro\n",
      "11 Francisca\n",
      "12 Marcos\n",
      "13 Raimundo\n",
      "14 Sebastião\n",
      "15 Antônia\n",
      "16 Marcelo\n",
      "17 Jorge\n",
      "18 Márcia\n",
      "19 Geraldo\n",
      "20 Adriana\n",
      "21 Sandra\n",
      "22 Luis\n"
     ]
    }
   ],
   "source": [
    "funcionarios = ['Maria', 'José', 'Antônio', 'João', 'Francisco', 'Ana', 'Luiz', 'Paulo', 'Carlos', 'Manoel', 'Pedro', 'Francisca', 'Marcos', 'Raimundo', 'Sebastião', 'Antônia', 'Marcelo', 'Jorge', 'Márcia', 'Geraldo', 'Adriana', 'Sandra', 'Luis']\n",
    "for i, funcionario in enumerate(funcionarios):\n",
    "    print(i, funcionario)"
   ]
  },
  {
   "cell_type": "code",
   "execution_count": 32,
   "id": "b0402f43",
   "metadata": {},
   "outputs": [
    {
     "name": "stdout",
     "output_type": "stream",
     "text": [
      "dolly está abaixo do estoque minimo e tem 20 unidades\n",
      "red bull está abaixo do estoque minimo e tem 23 unidades\n"
     ]
    }
   ],
   "source": [
    "#EXEMPLO PRATICO\n",
    "estoque = [1200, 300, 800, 1500, 1900, 2750, 400, 20, 23, 70, 90, 80, 1100, 999, 900, 880, 870, 50, 1111, 120, 300, 450, 800]\n",
    "produtos = ['coca', 'pepsi', 'guarana', 'skol', 'brahma', 'agua', 'del valle', 'dolly', 'red bull', 'cachaça', 'vinho tinto', 'vodka', 'vinho branco', 'tequila', 'champagne', 'gin', 'guaracamp', 'matte', 'leite de castanha', 'leite', 'jurupinga', 'sprite', 'fanta']\n",
    "nivel_minimo = 50\n",
    "\n",
    "for i, qtd in enumerate(estoque):\n",
    "    if qtd < nivel_minimo:\n",
    "        print(\"{} está abaixo do estoque minimo e tem {} unidades\".format(produtos[i] , qtd))"
   ]
  },
  {
   "cell_type": "markdown",
   "id": "c4c58ea4",
   "metadata": {},
   "source": [
    "# Exercícios\n",
    "\n",
    "1. Criando um Registro de Hóspedes\n",
    "\n",
    "Digamos que você está criando o sistema para registrar a chegada de hóspedes em um hotel. No hotel, os hóspedes podem ter quartos com 1, 2, 3 e 4 pessoas. Seu sistema deve conseguir:\n",
    "\n",
    "1. Identificar quantas pessoas o hóspede que acabou de chegar vai ter no quarto (perguntando por meio de input)\n",
    "\n",
    "2. De acordo com a quantidade de pessoas do hóspede, ele deve fazer um for para perguntar o cpf e o nome de cada pessoa, a fim de registrá-la no quarto (2 inputs para cada pessoa, 1 para o cpf e outro para o nome)\n",
    "\n",
    "3. O seu programa então deve gerar uma lista com todas as pessoas que ficarão no quarto em que cada item dessa lista é o nome da pessoa e o cpf da pessoa, assim:"
   ]
  },
  {
   "cell_type": "code",
   "execution_count": 1,
   "id": "3f917fe7",
   "metadata": {},
   "outputs": [],
   "source": [
    "quarto = [\n",
    "    ['João', 'cpf:00000000000'],\n",
    "    ['Julia', 'cpf:11111111111'],\n",
    "    ['Marcus', 'cpf:22222222222'],\n",
    "    ['Maria', 'cpf:33333333333'],\n",
    "]"
   ]
  },
  {
   "cell_type": "code",
   "execution_count": 5,
   "id": "bc6f29c4",
   "metadata": {},
   "outputs": [
    {
     "name": "stdout",
     "output_type": "stream",
     "text": [
      "Quantas pessoas tem no quarto?4\n",
      "Digite o nome:joao\n",
      "Qual é o cpf:1111111\n",
      "Digite o nome:didi\n",
      "Qual é o cpf:5888888888888\n",
      "Digite o nome:ellen\n",
      "Qual é o cpf:777777777\n",
      "Digite o nome:Drica\n",
      "Qual é o cpf:666666\n",
      "[['joao', 'Cpf: 1111111'], ['didi', 'Cpf: 5888888888888'], ['ellen', 'Cpf: 777777777'], ['Drica', 'Cpf: 666666']]\n"
     ]
    }
   ],
   "source": [
    "qtd_pessoas = int(input('Quantas pessoas tem no quarto?'))\n",
    "quarto = []\n",
    "for i in range(qtd_pessoas):\n",
    "    nome = input('Digite o nome:')\n",
    "    cpf = input('Qual é o cpf:')\n",
    "    hospede = [nome, 'Cpf: {}'.format(cpf)]\n",
    "    quarto.append(hospede)\n",
    "\n",
    "print(quarto)\n",
    "\n"
   ]
  },
  {
   "cell_type": "markdown",
   "id": "dbda5902",
   "metadata": {},
   "source": [
    "# #2. Análise de Vendas\n"
   ]
  },
  {
   "cell_type": "markdown",
   "id": "90808377",
   "metadata": {},
   "source": [
    "Nesse exercício vamos fazer uma \"análise simples\" de atingimento de Meta.\n",
    "\n",
    "Temos uma lista com os vendedores e os valores de vendas e queremos identificar (printar) quais os vendedores que bateram a meta e qual foi o valor que eles venderam"
   ]
  },
  {
   "cell_type": "code",
   "execution_count": 16,
   "id": "841a8da0",
   "metadata": {},
   "outputs": [
    {
     "name": "stdout",
     "output_type": "stream",
     "text": [
      "O vendedor João bateu a meta com 15000 vendas\n",
      "O vendedor Julia bateu a meta com 27000 vendas\n",
      "O vendedor Ana bateu a meta com 10300 vendas\n"
     ]
    }
   ],
   "source": [
    "meta = 10000\n",
    "vendas = [\n",
    "    ['João', 15000],\n",
    "    ['Julia', 27000],\n",
    "    ['Marcus', 9900],\n",
    "    ['Maria', 3750],\n",
    "    ['Ana', 10300],\n",
    "    ['Alon', 7870],\n",
    "]\n",
    "for i in vendas:\n",
    "    if i[1] >= meta:\n",
    "        print('O vendedor {} bateu a meta com {} vendas'.format(i[0], i[1]))"
   ]
  },
  {
   "cell_type": "markdown",
   "id": "ae54af79",
   "metadata": {},
   "source": [
    "# Comparação com ano anterior\n"
   ]
  },
  {
   "cell_type": "markdown",
   "id": "8377195f",
   "metadata": {},
   "source": [
    "Digamos que você está analisando as vendas de produtos de um ecommerce e quer identificar quais produtos tiveram no ano de 2020 mais vendas do que no ano de 2019, para reportar isso para a diretoria.\n",
    "\n",
    "Sua resposta pode ser um print de cada produto, qual foi a venda de 2019, a venda de 2020 e o % de crescimento de 2020 para 2019.\n",
    "\n",
    "Lembrando, para calcular o % de crescimento de um produto de um ano para o outro, podemos fazer: (vendas_produto2020/vendas_produto2019 - 1)\n",
    "\n",
    "Dica: lembre do enumerate, ele pode facilitar seu \"for\""
   ]
  },
  {
   "cell_type": "code",
   "execution_count": 40,
   "id": "69813ee6",
   "metadata": {},
   "outputs": [
    {
     "name": "stdout",
     "output_type": "stream",
     "text": [
      "iphone vendeu R$ 558,147 em 2019 e vendeu R$ 951,642 em 2020 e teve crescimento de 70.50% \n",
      "tv vendeu R$ 405,252 em 2019 e vendeu R$ 787,604 em 2020 e teve crescimento de 94.35% \n",
      "máquina de café vendeu R$ 718,654 em 2019 e vendeu R$ 867,660 em 2020 e teve crescimento de 20.73% \n",
      "notebook dell vendeu R$ 422,760 em 2019 e vendeu R$ 694,913 em 2020 e teve crescimento de 64.38% \n",
      "notebook hp vendeu R$ 154,753 em 2019 e vendeu R$ 539,704 em 2020 e teve crescimento de 248.75% \n",
      "microsoft surface vendeu R$ 438,508 em 2019 e vendeu R$ 667,179 em 2020 e teve crescimento de 52.15% \n",
      "webcam vendeu R$ 237,467 em 2019 e vendeu R$ 295,633 em 2020 e teve crescimento de 24.49% \n",
      "caixa de som vendeu R$ 489,705 em 2019 e vendeu R$ 725,316 em 2020 e teve crescimento de 48.11% \n",
      "microfone vendeu R$ 328,311 em 2019 e vendeu R$ 644,622 em 2020 e teve crescimento de 96.34% \n",
      "câmera canon vendeu R$ 591,120 em 2019 e vendeu R$ 994,303 em 2020 e teve crescimento de 68.21% \n"
     ]
    }
   ],
   "source": [
    "produtos = ['iphone', 'galaxy', 'ipad', 'tv', 'máquina de café', 'kindle', 'geladeira', 'adega', 'notebook dell', 'notebook hp', 'notebook asus', 'microsoft surface', 'webcam', 'caixa de som', 'microfone', 'câmera canon']\n",
    "vendas2019 = [558147,712350,573823,405252,718654,531580,973139,892292,422760,154753,887061,438508,237467,489705,328311,591120]\n",
    "vendas2020 = [951642,244295,26964,787604,867660,78830,710331,646016,694913,539704,324831,667179,295633,725316,644622,994303]\n",
    "\n",
    "for i,produto in enumerate(produtos):\n",
    "    if vendas2020[i] > vendas2019[i]:\n",
    "        crescimento = vendas2020[i]/vendas2019[i]-1\n",
    "        print(\"{} vendeu R$ {:,} em 2019 e vendeu R$ {:,} em 2020 e teve crescimento de {:.2%} \".format(produto, vendas2019[i], vendas2020[i], crescimento))\n",
    "    "
   ]
  },
  {
   "cell_type": "markdown",
   "id": "060b96a3",
   "metadata": {},
   "source": [
    "# For dentro de For\n",
    "Descobrir o estoque minimo em uma lista de fabricas"
   ]
  },
  {
   "cell_type": "code",
   "execution_count": null,
   "id": "580b84c6",
   "metadata": {},
   "outputs": [],
   "source": [
    "estoque = [\n",
    "    [294, 125, 269, 208, 783, 852, 259, 371, 47, 102, 386, 87, 685, 686, 697, 941, 163, 631, 7, 714, 218, 670, 453],\n",
    "    [648, 816, 310, 555, 992, 643, 226, 319, 501, 23, 239, 42, 372, 441, 126, 645, 927, 911, 761, 445, 974, 2, 549],\n",
    "    [832, 683, 784, 449, 977, 705, 198, 937, 729, 327, 339, 10, 975, 310, 95, 689, 137, 795, 211, 538, 933, 751, 522],\n",
    "    [837, 168, 570, 397, 53, 297, 966, 714, 72, 737, 259, 629, 625, 469, 922, 305, 782, 243, 841, 848, 372, 621, 362],\n",
    "    [429, 242, 53, 985, 406, 186, 198, 50, 501, 870, 781, 632, 781, 105, 644, 509, 401, 88, 961, 765, 422, 340, 654],\n",
    "]\n",
    "fabricas = ['Lira Manufacturing', 'Fábrica Hashtag', 'Python Manufaturas', 'Produções e Cia', 'Manufatura e Cia']\n",
    "nivel_minimo = 50\n",
    "fabricas_baixo_nivel = []\n",
    "for i, estoq in enumerate(estoque):\n",
    "    for qtde in estoq:\n",
    "        if qtde < nivel_minimo:\n",
    "            if fabricas[i] in fabricas_baixo_nivel:\n",
    "                pass\n",
    "            else:\n",
    "                fabricas_baixo_nivel.append(fabricas[i])\n",
    "print(fabricas_baixo_nivel)"
   ]
  },
  {
   "cell_type": "markdown",
   "id": "8337ee4f",
   "metadata": {},
   "source": [
    "## Vendedores que bateram a meta"
   ]
  },
  {
   "cell_type": "code",
   "execution_count": 33,
   "id": "dd6961df",
   "metadata": {},
   "outputs": [
    {
     "name": "stdout",
     "output_type": "stream",
     "text": [
      "[['João', 15000], ['Julia', 27000], ['Ana', 10300]]\n",
      "{'50% Vendedores bateram a meta'}\n"
     ]
    }
   ],
   "source": [
    "meta = 10000\n",
    "vendas = [\n",
    "    ['João', 15000],\n",
    "    ['Julia', 27000],\n",
    "    ['Marcus', 9900],\n",
    "    ['Maria', 3750],\n",
    "    ['Ana', 10300],\n",
    "    ['Alon', 7870],\n",
    "]\n",
    "\n",
    "acima_meta=[]\n",
    "for venda in vendas:\n",
    "    if venda[1] >= meta:\n",
    "        acima_meta.append(venda)\n",
    "print(acima_meta)\n",
    "print({'{:.0%} Vendedores bateram a meta'.format(len(acima_meta)/len(vendas))})"
   ]
  },
  {
   "cell_type": "code",
   "execution_count": 38,
   "id": "f2d7e096",
   "metadata": {},
   "outputs": [
    {
     "name": "stdout",
     "output_type": "stream",
     "text": [
      "O maior vendedor foi Julia com 27000 vendas\n"
     ]
    }
   ],
   "source": [
    "#Quem foi o vendedor que mais vendeu?\n",
    "maior_vendedor = max(acima_meta)\n",
    "print(f'O maior vendedor foi {maior_vendedor[0]} com {maior_vendedor[1]} vendas')"
   ]
  },
  {
   "cell_type": "code",
   "execution_count": 41,
   "id": "fc2fd441",
   "metadata": {},
   "outputs": [
    {
     "name": "stdout",
     "output_type": "stream",
     "text": [
      "O melhor vendedor foi Julia com 27000 vendas\n"
     ]
    }
   ],
   "source": [
    "#Outra forma de achar o maior vendedor\n",
    "melhor = ''\n",
    "maior = 0\n",
    "for venda in vendas:\n",
    "    if venda[1] > maior:\n",
    "        maior = venda[1]\n",
    "        melhor = venda[0]\n",
    "print(\"O melhor vendedor foi {} com {} vendas\".format(melhor, maior))"
   ]
  },
  {
   "cell_type": "markdown",
   "id": "1da93bc0",
   "metadata": {},
   "source": [
    "# Formas de interromper o for"
   ]
  },
  {
   "cell_type": "code",
   "execution_count": 45,
   "id": "6ad8c9ea",
   "metadata": {},
   "outputs": [
    {
     "name": "stdout",
     "output_type": "stream",
     "text": [
      "A loja não ganha bonus\n"
     ]
    }
   ],
   "source": [
    "#Break sai do for\n",
    "vendas = [100, 150, 1500, 2000, 120]\n",
    "meta = 110\n",
    "for venda in vendas:\n",
    "    if venda < meta:\n",
    "        print(\"A loja não ganha bonus\")\n",
    "        break"
   ]
  },
  {
   "cell_type": "code",
   "execution_count": 60,
   "id": "d49e64b1",
   "metadata": {},
   "outputs": [
    {
     "name": "stdout",
     "output_type": "stream",
     "text": [
      "150\n",
      "1500\n",
      "2000\n"
     ]
    }
   ],
   "source": [
    "#continue sai e continua no for\n",
    "vendedores = ['João', 'Julia', 'Ana', 'José', 'Maria']\n",
    "meta = 130\n",
    "for i in vendas:\n",
    "    if i < meta:\n",
    "        continue\n",
    "    print(i)"
   ]
  },
  {
   "cell_type": "code",
   "execution_count": null,
   "id": "a9733bfc",
   "metadata": {},
   "outputs": [],
   "source": []
  }
 ],
 "metadata": {
  "kernelspec": {
   "display_name": "Python 3 (ipykernel)",
   "language": "python",
   "name": "python3"
  },
  "language_info": {
   "codemirror_mode": {
    "name": "ipython",
    "version": 3
   },
   "file_extension": ".py",
   "mimetype": "text/x-python",
   "name": "python",
   "nbconvert_exporter": "python",
   "pygments_lexer": "ipython3",
   "version": "3.9.7"
  }
 },
 "nbformat": 4,
 "nbformat_minor": 5
}
