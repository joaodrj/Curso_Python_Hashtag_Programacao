{
 "cells": [
  {
   "cell_type": "markdown",
   "id": "cd647f6e",
   "metadata": {},
   "source": [
    "# Listas\n"
   ]
  },
  {
   "cell_type": "code",
   "execution_count": 5,
   "id": "78aa0464",
   "metadata": {},
   "outputs": [],
   "source": [
    "produtos = ['tv', 'celular', 'computador']\n",
    "vendas = [500, 1000, 2300]\n"
   ]
  },
  {
   "cell_type": "code",
   "execution_count": 7,
   "id": "0b60924a",
   "metadata": {},
   "outputs": [
    {
     "name": "stdout",
     "output_type": "stream",
     "text": [
      "O produto mais vendido foi computador com o valor de 2300\n"
     ]
    }
   ],
   "source": [
    "print(\"O produto mais vendido foi {} com o valor de {}\".format(produtos[2],vendas[2]))"
   ]
  },
  {
   "cell_type": "code",
   "execution_count": 8,
   "id": "6c6e553e",
   "metadata": {},
   "outputs": [],
   "source": [
    "vendas[0] = 750"
   ]
  },
  {
   "cell_type": "markdown",
   "id": "2d5da19c",
   "metadata": {},
   "source": [
    "## Descobrir o indice de uma lista"
   ]
  },
  {
   "cell_type": "code",
   "execution_count": 16,
   "id": "57bdb913",
   "metadata": {},
   "outputs": [],
   "source": [
    "produtos = ['tv', 'celular', 'tablet', 'mouse', 'teclado', 'geladeira', 'forno']\n",
    "estoque = [100, 150, 100, 120, 70, 180, 80]\n",
    "a = [1,2,3,4,5,6,7,]"
   ]
  },
  {
   "cell_type": "code",
   "execution_count": 17,
   "id": "502bf66a",
   "metadata": {},
   "outputs": [
    {
     "name": "stdout",
     "output_type": "stream",
     "text": [
      "Quantidade em estoque da geladeira é de: 180\n"
     ]
    }
   ],
   "source": [
    "i = produtos.index('geladeira')\n",
    "qtde_estoque = estoque[i]\n",
    "\n",
    "print('Quantidade em estoque da geladeira é de: {}'.format(qtde_estoque))"
   ]
  },
  {
   "cell_type": "code",
   "execution_count": 3,
   "id": "01dff2a2",
   "metadata": {},
   "outputs": [
    {
     "name": "stdout",
     "output_type": "stream",
     "text": [
      "Insira o nome do produto em letra minúsculamouse\n",
      "Temos 120 unidades de mouse no estoque\n"
     ]
    }
   ],
   "source": [
    "#Conferindo a quantidade de produtos existente o o produto na lista(estoque)\n",
    "produto = input('Insira o nome do produto em letra minúscula')\n",
    "if produto in produtos:\n",
    "    i = produtos.index(produto)\n",
    "    qtde_estoque = estoque[i]\n",
    "    print('Temos {} unidades de {} no estoque'.format(qtde_estoque, produto))\n",
    "else:\n",
    "    print('{} não existe no estoque'.format(produto))"
   ]
  },
  {
   "cell_type": "markdown",
   "id": "3bb6ee96",
   "metadata": {},
   "source": [
    "# Adicionar e remover itens de uma lista"
   ]
  },
  {
   "cell_type": "code",
   "execution_count": 1,
   "id": "c9d9d177",
   "metadata": {},
   "outputs": [
    {
     "data": {
      "text/plain": [
       "['tv', 'celular', 'computador']"
      ]
     },
     "execution_count": 1,
     "metadata": {},
     "output_type": "execute_result"
    }
   ],
   "source": [
    "produtos = ['tv', 'celular', 'computador']\n",
    "produtos"
   ]
  },
  {
   "cell_type": "code",
   "execution_count": 14,
   "id": "c9e2b704",
   "metadata": {},
   "outputs": [
    {
     "data": {
      "text/plain": [
       "['tv', 'celular', 'computador', 'geladeira', 'geladeira', 'geladeira']"
      ]
     },
     "execution_count": 14,
     "metadata": {},
     "output_type": "execute_result"
    }
   ],
   "source": [
    "#O metodo append() para adicionar o item ao final da lista\n",
    "produtos.append('geladeira')\n",
    "produtos"
   ]
  },
  {
   "cell_type": "code",
   "execution_count": 19,
   "id": "2b48b5c8",
   "metadata": {},
   "outputs": [],
   "source": [
    "#O metodo remove() para remover o item passado como parâmetro\n",
    "produtos.remove('geladeira')"
   ]
  },
  {
   "cell_type": "code",
   "execution_count": 20,
   "id": "50b95f8f",
   "metadata": {},
   "outputs": [
    {
     "data": {
      "text/plain": [
       "['tv', 'celular', 'computador']"
      ]
     },
     "execution_count": 20,
     "metadata": {},
     "output_type": "execute_result"
    }
   ],
   "source": [
    "produtos"
   ]
  },
  {
   "cell_type": "code",
   "execution_count": 22,
   "id": "fb081d37",
   "metadata": {},
   "outputs": [
    {
     "name": "stdout",
     "output_type": "stream",
     "text": [
      "O produto geladeira não está na lista\n"
     ]
    }
   ],
   "source": [
    "#Solulão para tratar erro de caso o produto não estiver na lista\n",
    "try:\n",
    "    produto.remove('geladeira')\n",
    "    print(produtos)\n",
    "except:\n",
    "    print('O produto geladeira não está na lista')"
   ]
  },
  {
   "cell_type": "markdown",
   "id": "a0837b64",
   "metadata": {},
   "source": [
    "# Funções basicas de listas"
   ]
  },
  {
   "cell_type": "markdown",
   "id": "415e4bd3",
   "metadata": {},
   "source": [
    "## #Tamanho da lista"
   ]
  },
  {
   "cell_type": "code",
   "execution_count": 23,
   "id": "20ca487b",
   "metadata": {},
   "outputs": [],
   "source": [
    "produtos = ['tv', 'celular', 'tablet', 'mouse', 'teclado', 'geladeira', 'forno']\n"
   ]
  },
  {
   "cell_type": "code",
   "execution_count": 25,
   "id": "1ded7dd7",
   "metadata": {},
   "outputs": [
    {
     "data": {
      "text/plain": [
       "7"
      ]
     },
     "execution_count": 25,
     "metadata": {},
     "output_type": "execute_result"
    }
   ],
   "source": [
    "#Verifica a quantidade de produtos dentro de uma lista\n",
    "len(produtos)"
   ]
  },
  {
   "cell_type": "code",
   "execution_count": 28,
   "id": "1687e03e",
   "metadata": {},
   "outputs": [],
   "source": [
    "#Verificar maior e menor valor em uma lista - min() e max()\n",
    "valor = [100, 150, 100, 120, 70, 180, 80]"
   ]
  },
  {
   "cell_type": "code",
   "execution_count": 29,
   "id": "41def430",
   "metadata": {},
   "outputs": [
    {
     "name": "stdout",
     "output_type": "stream",
     "text": [
      "O produto mais vendido teve 180 unidade vendidas e o produto menos vendido teve 70 unidades\n"
     ]
    }
   ],
   "source": [
    "mais_vendido = max(valor)\n",
    "menos_vendido = min(valor)\n",
    "print('O produto mais vendido teve {} unidade vendidas e o produto menos vendido teve {} unidades'.format(mais_vendido, menos_vendido))"
   ]
  },
  {
   "cell_type": "code",
   "execution_count": 41,
   "id": "9290fb4d",
   "metadata": {},
   "outputs": [
    {
     "name": "stdout",
     "output_type": "stream",
     "text": [
      "O produto mais vendido foi geladeira.\n",
      "O produto mais vendido teclado.\n"
     ]
    }
   ],
   "source": [
    "#Descobrir o produto mais vendido pelo indice\n",
    "i = valor.index(mais_vendido)\n",
    "produto_mais_vendido = produtos[i]\n",
    "print('O produto mais vendido foi ' + produto_mais_vendido +'.')\n",
    "\n",
    "#Descobrir o produto menos vendido pelo indice\n",
    "i = valor.index(menos_vendido)\n",
    "produto_menos_vendido = produtos[i]\n",
    "print('O produto mais vendido ' + produto_menos_vendido +'.')\n",
    "\n"
   ]
  },
  {
   "cell_type": "markdown",
   "id": "2dc3e370",
   "metadata": {},
   "source": [
    "# Juntar listas e ordenar"
   ]
  },
  {
   "cell_type": "code",
   "execution_count": 1,
   "id": "6a2701ea",
   "metadata": {},
   "outputs": [],
   "source": [
    "produtos = ['tv', 'celular', 'tablet', 'mouse', 'teclado', 'geladeira', 'forno']\n",
    "novos_produtos = ['microondas', 'monitor']\n"
   ]
  },
  {
   "cell_type": "code",
   "execution_count": 3,
   "id": "853b734f",
   "metadata": {},
   "outputs": [
    {
     "name": "stdout",
     "output_type": "stream",
     "text": [
      "['tv', 'celular', 'tablet', 'mouse', 'teclado', 'geladeira', 'forno', 'microondas', 'monitor', 'microondas', 'monitor']\n",
      "<zip object at 0x0000015E85E71BC0>\n"
     ]
    }
   ],
   "source": [
    "produtos.extend(novos_produtos)\n",
    "print(produtos)"
   ]
  },
  {
   "cell_type": "markdown",
   "id": "763ea00a",
   "metadata": {},
   "source": [
    "# #ordenar listas\n"
   ]
  },
  {
   "cell_type": "code",
   "execution_count": 5,
   "id": "73b16e23",
   "metadata": {},
   "outputs": [
    {
     "name": "stdout",
     "output_type": "stream",
     "text": [
      "['celular', 'forno', 'geladeira', 'microondas', 'monitor', 'mouse', 'tablet', 'teclado', 'tv']\n"
     ]
    }
   ],
   "source": [
    "#usar o metodo sort() para ordenar - Ele ordena seguindo a tabela ASCII\n",
    "produtos.sort()\n",
    "print(produtos)"
   ]
  },
  {
   "cell_type": "code",
   "execution_count": 6,
   "id": "ced5f31d",
   "metadata": {},
   "outputs": [
    {
     "name": "stdout",
     "output_type": "stream",
     "text": [
      "celular,forno,geladeira,microondas,monitor,mouse,tablet,teclado,tv\n"
     ]
    }
   ],
   "source": [
    "#Metodo join() no print para acrescentar algo\n",
    "print(','.join(produtos))"
   ]
  },
  {
   "cell_type": "markdown",
   "id": "4487b0d1",
   "metadata": {},
   "source": [
    "# Exercicos"
   ]
  },
  {
   "cell_type": "markdown",
   "id": "eef2d010",
   "metadata": {},
   "source": [
    "## Faturamento do melhor e pior mês do ano"
   ]
  },
  {
   "cell_type": "code",
   "execution_count": 46,
   "id": "b517b1b0",
   "metadata": {},
   "outputs": [],
   "source": [
    "meses = ['jan', 'fev', 'mar', 'abr', 'mai', 'jun', 'jul', 'ago', 'set', 'out', 'nov', 'dez']\n",
    "vendas_1sem = [25000, 29000, 22200, 17750, 15870, 19900]\n",
    "vendas_2sem = [19850, 20120, 17540, 15555, 49051, 9650]"
   ]
  },
  {
   "cell_type": "code",
   "execution_count": 47,
   "id": "6f37abf2",
   "metadata": {},
   "outputs": [
    {
     "name": "stdout",
     "output_type": "stream",
     "text": [
      "[25000, 29000, 22200, 17750, 15870, 19900, 19850, 20120, 17540, 15555, 49051, 9650]\n"
     ]
    }
   ],
   "source": [
    "vendas_1sem.extend(vendas_2sem)\n",
    "print(vendas_1sem)"
   ]
  },
  {
   "cell_type": "code",
   "execution_count": 48,
   "id": "2480b656",
   "metadata": {},
   "outputs": [
    {
     "name": "stdout",
     "output_type": "stream",
     "text": [
      "49051\n",
      "9650\n"
     ]
    }
   ],
   "source": [
    "maior_valor = max(vendas_1sem)\n",
    "menor_valor = min(vendas_1sem)\n",
    "print(maior_valor)\n",
    "print(menor_valor)"
   ]
  },
  {
   "cell_type": "code",
   "execution_count": 49,
   "id": "1a5db7fc",
   "metadata": {},
   "outputs": [
    {
     "name": "stdout",
     "output_type": "stream",
     "text": [
      "O melhor mês do ano foi nov com 49051 vendas\n",
      "O pior mês do ano foidez com 9650 vendas\n"
     ]
    }
   ],
   "source": [
    "#mostrar o melhor e o pior mês do ano e o total de vendas\n",
    "i_maior_valor = vendas_1sem.index(maior_valor)\n",
    "i_menor_valor = vendas_1sem.index(menor_valor)\n",
    "print('O melhor mês do ano foi {} com {} vendas'.format(meses[i_maior_valor], maior_valor))\n",
    "print('O pior mês do ano foi{} com {} vendas'.format(meses[i_menor_valor], menor_valor))"
   ]
  },
  {
   "cell_type": "code",
   "execution_count": 50,
   "id": "31a60e25",
   "metadata": {},
   "outputs": [
    {
     "name": "stdout",
     "output_type": "stream",
     "text": [
      "[49051, 29000, 25000]\n"
     ]
    }
   ],
   "source": [
    "#Criar uma lista top 3 com os melhores valores do ano\n",
    "top3 = []\n",
    "maior_valor = max(vendas_1sem)\n",
    "top3.append(maior_valor)\n",
    "vendas_1sem.remove(maior_valor)\n",
    "maior_valor2 = max(vendas_1sem)\n",
    "top3.append(maior_valor2)\n",
    "vendas_1sem.remove(maior_valor2)\n",
    "maior_valor3 = max(vendas_1sem)\n",
    "top3.append(maior_valor3)\n",
    "print(top3)"
   ]
  },
  {
   "cell_type": "markdown",
   "id": "8aa610c6",
   "metadata": {},
   "source": [
    "# Copiar e igualdade de listas"
   ]
  },
  {
   "cell_type": "code",
   "execution_count": 62,
   "id": "41a4d8fa",
   "metadata": {},
   "outputs": [
    {
     "name": "stdout",
     "output_type": "stream",
     "text": [
      "['celualr', 'tv', 'geladeira']\n"
     ]
    }
   ],
   "source": [
    "#Copiando uma lista usando o metodo copy()\n",
    "lista = ['celualr', 'tv', 'geladeira']\n",
    "copia_lista = lista.copy()\n",
    "print(copia_lista)"
   ]
  },
  {
   "cell_type": "markdown",
   "id": "38584b7c",
   "metadata": {},
   "source": [
    "# Listas de listas"
   ]
  },
  {
   "cell_type": "code",
   "execution_count": 1,
   "id": "d683fc61",
   "metadata": {},
   "outputs": [],
   "source": [
    "vendedores = ['Lira', 'João', 'Diego', 'Alon']\n",
    "produtos = ['ipad', 'iphone']\n",
    "vendas = [\n",
    "    [100, 200],\n",
    "    [300, 500],\n",
    "    [50, 1000],\n",
    "    [900, 10],\n",
    "]"
   ]
  },
  {
   "cell_type": "code",
   "execution_count": 2,
   "id": "72b1ee78",
   "metadata": {},
   "outputs": [
    {
     "name": "stdout",
     "output_type": "stream",
     "text": [
      "[300, 500]\n"
     ]
    }
   ],
   "source": [
    "#Quanto o João vendeu de ipad\n",
    "vendas_ipad_joao = vendas[1]\n",
    "print(vendas_ipad_joao)"
   ]
  },
  {
   "cell_type": "code",
   "execution_count": 3,
   "id": "56ef14b2",
   "metadata": {},
   "outputs": [
    {
     "name": "stdout",
     "output_type": "stream",
     "text": [
      "1710\n"
     ]
    }
   ],
   "source": [
    "#total de vendas de iphone\n",
    "t = 0\n",
    "for i in vendas:\n",
    "    t = t + i[1]\n",
    "print(t)"
   ]
  },
  {
   "cell_type": "markdown",
   "id": "f2de226e",
   "metadata": {},
   "source": [
    "# Exercicios\n"
   ]
  },
  {
   "cell_type": "code",
   "execution_count": 4,
   "id": "8221f920",
   "metadata": {},
   "outputs": [],
   "source": [
    "produtos = ['computador', 'livro', 'tablet', 'celular', 'tv', 'ar condicionado', 'alexa', 'máquina de café', 'kindle']\n",
    "\n",
    "#cada item da lista dos produtos corresponde a quantidade de vendas no mês e preço, nessa ordem\n",
    "produtos_ecommerce = [\n",
    "    [10000, 2500],\n",
    "    [50000, 40],\n",
    "    [7000, 1200],\n",
    "    [20000, 1500],\n",
    "    [5800, 1300],\n",
    "    [7200, 2500],\n",
    "    [200, 800],\n",
    "    [3300, 700],\n",
    "    [1900, 400]\n",
    "]"
   ]
  },
  {
   "cell_type": "code",
   "execution_count": null,
   "id": "a7a772bb",
   "metadata": {},
   "outputs": [],
   "source": []
  }
 ],
 "metadata": {
  "kernelspec": {
   "display_name": "Python 3 (ipykernel)",
   "language": "python",
   "name": "python3"
  },
  "language_info": {
   "codemirror_mode": {
    "name": "ipython",
    "version": 3
   },
   "file_extension": ".py",
   "mimetype": "text/x-python",
   "name": "python",
   "nbconvert_exporter": "python",
   "pygments_lexer": "ipython3",
   "version": "3.9.7"
  }
 },
 "nbformat": 4,
 "nbformat_minor": 5
}
