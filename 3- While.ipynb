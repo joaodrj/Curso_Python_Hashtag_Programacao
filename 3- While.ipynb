{
 "cells": [
  {
   "cell_type": "markdown",
   "id": "48b3ea57",
   "metadata": {},
   "source": [
    "# While"
   ]
  },
  {
   "cell_type": "code",
   "execution_count": 2,
   "id": "d9a6b973",
   "metadata": {},
   "outputs": [
    {
     "name": "stdout",
     "output_type": "stream",
     "text": [
      "Registre um produto. Para cancelar aperte a tecla enter.\n",
      "Registro finalizado. Os produtos cadastrados foram []\n"
     ]
    }
   ],
   "source": [
    "venda = input(\"Registre um produto. Para cancelar aperte a tecla enter.\")\n",
    "vendas = []\n",
    "while  venda != '' :\n",
    "    vendas.append(venda)\n",
    "    venda = input(\"Registre um produto. Para cancelar aperte a tecla enter.\")\n",
    "\n",
    "\n",
    "print('Registro finalizado. Os produtos cadastrados foram {}'.format(vendas))"
   ]
  },
  {
   "cell_type": "markdown",
   "id": "59647626",
   "metadata": {},
   "source": [
    "# Cuidado com o loop infinito"
   ]
  },
  {
   "cell_type": "code",
   "execution_count": 3,
   "id": "bd9978c5",
   "metadata": {},
   "outputs": [
    {
     "name": "stdout",
     "output_type": "stream",
     "text": [
      "José bateu a meta. vendas: 852\n",
      "Antônio bateu a meta. vendas: 783\n",
      "João bateu a meta. vendas: 714\n",
      "Francisco bateu a meta. vendas: 697\n",
      "Ana bateu a meta. vendas: 686\n",
      "Luiz bateu a meta. vendas: 685\n",
      "Paulo bateu a meta. vendas: 670\n",
      "Carlos bateu a meta. vendas: 631\n",
      "Manoel bateu a meta. vendas: 453\n",
      "Pedro bateu a meta. vendas: 386\n",
      "Francisca bateu a meta. vendas: 371\n",
      "Marcos bateu a meta. vendas: 294\n",
      "Raimundo bateu a meta. vendas: 269\n",
      "Sebastião bateu a meta. vendas: 259\n",
      "Antônia bateu a meta. vendas: 218\n",
      "Marcelo bateu a meta. vendas: 208\n",
      "Jorge bateu a meta. vendas: 163\n",
      "Márcia bateu a meta. vendas: 125\n",
      "Geraldo bateu a meta. vendas: 102\n",
      "Adriana bateu a meta. vendas: 87\n",
      "Sandra bateu a meta. vendas: 47\n"
     ]
    }
   ],
   "source": [
    "vendas = [941, 852, 783, 714, 697, 686, 685, 670, 631, 453, 386, 371, 294, 269, 259, 218, 208, 163, 125, 102, 87, 47, 7]\n",
    "vendedores = ['Maria', 'José', 'Antônio', 'João', 'Francisco', 'Ana', 'Luiz', 'Paulo', 'Carlos', 'Manoel', 'Pedro', 'Francisca', 'Marcos', 'Raimundo', 'Sebastião', 'Antônia', 'Marcelo', 'Jorge', 'Márcia', 'Geraldo', 'Adriana', 'Sandra', 'Luis']\n",
    "meta = 50\n",
    "i= 0\n",
    "\n",
    "while vendas[i] > meta:\n",
    "    i +=1\n",
    "    print(\"{} bateu a meta. vendas: {}\".format(vendedores[i],vendas[i]))"
   ]
  },
  {
   "cell_type": "markdown",
   "id": "bf4eda6c",
   "metadata": {},
   "source": [
    "# Exercicio\n",
    "1. Input até o usuário parar\n",
    "Vamos criar um sistema de vendas. Nosso programa deve registrar os produtos e as quantidades (2 inputs) e adicionar em uma lista.\n",
    "\n",
    "O programa deve continuar rodando até o input ser vazio, ou seja, o usuário apertar enter sem digitar nenhum produto ou quantidade.\n",
    "\n",
    "Ao final do programa, ele deve printar todos os produtos e quantidades vendidas.\n",
    "\n",
    "Obs: Caso queira, para o print ficar mais visual, pode usar o join para cada item ser printado em uma linha. Sugestão para sua lista de produtos vendidos:"
   ]
  },
  {
   "cell_type": "code",
   "execution_count": null,
   "id": "b030adb4",
   "metadata": {},
   "outputs": [],
   "source": []
  },
  {
   "cell_type": "code",
   "execution_count": 10,
   "id": "3443dda5",
   "metadata": {},
   "outputs": [
    {
     "name": "stdout",
     "output_type": "stream",
     "text": [
      "digite um produtomaça\n",
      "digite a quantidade:6\n",
      "digite um produtobatata\n",
      "digite a quantidade:7\n",
      "digite um produtocebola\n",
      "digite a quantidade:2\n",
      "digite um produto\n",
      "[['maça', 6], ['batata', 7], ['cebola', 2]]\n"
     ]
    }
   ],
   "source": [
    "vendas = []\n",
    "while True:\n",
    "    produtos = input(\"digite um produto\")\n",
    "    if not produtos:\n",
    "        break\n",
    "    quantidade = int(input(\"digite a quantidade:\"))\n",
    "    vendas.append([produtos, quantidade])\n",
    "\n",
    "print(vendas)\n"
   ]
  },
  {
   "cell_type": "code",
   "execution_count": null,
   "id": "d8022323",
   "metadata": {},
   "outputs": [],
   "source": []
  },
  {
   "cell_type": "code",
   "execution_count": null,
   "id": "2290d552",
   "metadata": {},
   "outputs": [],
   "source": []
  },
  {
   "cell_type": "code",
   "execution_count": null,
   "id": "6cc3fb57",
   "metadata": {},
   "outputs": [],
   "source": []
  }
 ],
 "metadata": {
  "kernelspec": {
   "display_name": "Python 3 (ipykernel)",
   "language": "python",
   "name": "python3"
  },
  "language_info": {
   "codemirror_mode": {
    "name": "ipython",
    "version": 3
   },
   "file_extension": ".py",
   "mimetype": "text/x-python",
   "name": "python",
   "nbconvert_exporter": "python",
   "pygments_lexer": "ipython3",
   "version": "3.9.7"
  }
 },
 "nbformat": 4,
 "nbformat_minor": 5
}
