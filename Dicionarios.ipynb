{
 "cells": [
  {
   "cell_type": "markdown",
   "id": "bec1412d",
   "metadata": {},
   "source": [
    "### Dicionários em Python\n",
    "\n",
    "### Estrutura:\n",
    "dicionario = {chave: valor, chave: valor, chave: valor, chave: valor ...}\n",
    "\n",
    "### Vantagens e Desvantagens\n",
    "\n",
    "Não devem ser usados para pegar itens em uma determinada ordem\n",
    "Podem ter valores heterogêneos (vários tipos de valores dentro de um mesmo dicionário: inteiros, strings, listas, etc)\n",
    "Chaves são únicas obrigatoriamente\n",
    "Mais intuitivos de trabalhar"
   ]
  },
  {
   "cell_type": "code",
   "execution_count": 2,
   "id": "89c2fb36",
   "metadata": {},
   "outputs": [],
   "source": [
    "mais_vendidos = {'tecnologia': 'iphone', 'refrigeracao': 'ar consul 12000 btu', 'livros': 'o alquimista', 'eletrodoméstico': 'geladeira', 'lazer': 'prancha surf'}\n",
    "\n",
    "vendas_tecnologia = {'iphone': 15000, 'samsung galaxy': 12000, 'tv samsung': 10000, 'ps5': 14300, 'tablet': 1720, 'ipad': 1000, 'tv philco': 2500, 'notebook hp': 1000, 'notebook dell': 17000, 'notebook asus': 2450}"
   ]
  },
  {
   "cell_type": "markdown",
   "id": "18895ae9",
   "metadata": {},
   "source": [
    "- Qual foi o item mais vendido nas categorias 'livros' e 'lazer'?\n",
    "- Quanto foi vendido de 'notebook asus' e de 'ipad'?"
   ]
  },
  {
   "cell_type": "code",
   "execution_count": 3,
   "id": "9c5a916c",
   "metadata": {},
   "outputs": [
    {
     "name": "stdout",
     "output_type": "stream",
     "text": [
      "O livro mais vendido foi o alquimista\n"
     ]
    }
   ],
   "source": [
    "livros = mais_vendidos['livros']\n",
    "print('O livro mais vendido foi {}'.format(livros))"
   ]
  },
  {
   "cell_type": "code",
   "execution_count": 4,
   "id": "996b2a6c",
   "metadata": {},
   "outputs": [
    {
     "name": "stdout",
     "output_type": "stream",
     "text": [
      "2450\n"
     ]
    }
   ],
   "source": [
    "vendas = vendas_tecnologia['notebook asus']\n",
    "print(vendas)"
   ]
  },
  {
   "cell_type": "markdown",
   "id": "189e6acd",
   "metadata": {},
   "source": [
    "## Usando o metodo .get() para pegar um valor "
   ]
  },
  {
   "cell_type": "code",
   "execution_count": 6,
   "id": "4261aa82",
   "metadata": {},
   "outputs": [
    {
     "name": "stdout",
     "output_type": "stream",
     "text": [
      "15000\n"
     ]
    }
   ],
   "source": [
    "#Usando o metodo get para pegar um valor \n",
    "print(vendas_tecnologia.get('iphone'))\n"
   ]
  },
  {
   "cell_type": "code",
   "execution_count": 7,
   "id": "d23c4c27",
   "metadata": {},
   "outputs": [
    {
     "name": "stdout",
     "output_type": "stream",
     "text": [
      "O copo não está dentro de vendas tecnologia\n"
     ]
    }
   ],
   "source": [
    "#Verificar se um valor está dentro do dicionario\n",
    "if vendas_tecnologia.get('copo') == None:\n",
    "    print(\"O copo não está dentro de vendas tecnologia\")\n",
    "else:\n",
    "    print(vendas_tecnoliga.get('copo')) "
   ]
  },
  {
   "cell_type": "markdown",
   "id": "b29634ae",
   "metadata": {},
   "source": [
    "## Adicionar, modificar e remover algum item"
   ]
  },
  {
   "cell_type": "code",
   "execution_count": 8,
   "id": "80c85a63",
   "metadata": {},
   "outputs": [
    {
     "name": "stdout",
     "output_type": "stream",
     "text": [
      "{'janeiro': 100000, 'fevereiro': 120000, 'março': 90000, 'abril': 88000, 'maio': 89000, 'junho': 120000}\n"
     ]
    }
   ],
   "source": [
    "lucro_1tri = {'janeiro': 100000, 'fevereiro': 120000, 'março': 90000}\n",
    "lucro_2tri = {'abril': 88000, 'maio': 89000, 'junho': 120000}\n",
    "#adicionando 1 item\n",
    "lucro_1tri['abril'] = 88000\n",
    "#adicionando vários itens ou um dicionário a outro\n",
    "lucro_1tri.update(lucro_2tri)\n",
    "#adicionando um item já existente (manualmente ou pelo update)\n",
    "print(lucro_1tri)"
   ]
  },
  {
   "cell_type": "code",
   "execution_count": 9,
   "id": "05bfc5f7",
   "metadata": {},
   "outputs": [
    {
     "name": "stdout",
     "output_type": "stream",
     "text": [
      "{'janeiro': 100000, 'fevereiro': 120000, 'março': 90000, 'abril': 88000, 'maio': 89000}\n"
     ]
    }
   ],
   "source": [
    "#REMOVER ITEM DA LISTA DE DICIONÁRIO\n",
    "#removendo o mês de junho\n",
    "del lucro_1tri['junho']\n",
    "print(lucro_1tri)\n",
    "#obs: o del também funciona para listas, caso queira usar\n",
    "#del lista[i]\n",
    "funcionarios = ['João', 'Lira', 'Maria', 'Ana', 'Paula']\n"
   ]
  },
  {
   "cell_type": "code",
   "execution_count": 10,
   "id": "64f050ad",
   "metadata": {},
   "outputs": [
    {
     "name": "stdout",
     "output_type": "stream",
     "text": [
      "89000\n",
      "{'janeiro': 100000, 'fevereiro': 120000, 'março': 90000, 'abril': 88000}\n"
     ]
    }
   ],
   "source": [
    "#usando .pop() para remover e guardar em uma nova variável\n",
    "lucro_maio = lucro_1tri.pop('maio')\n",
    "print(lucro_maio)\n",
    "print(lucro_1tri)"
   ]
  },
  {
   "cell_type": "markdown",
   "id": "1df41de6",
   "metadata": {},
   "source": [
    "## Usando For em dicionários\n"
   ]
  },
  {
   "cell_type": "code",
   "execution_count": 1,
   "id": "05cf99b3",
   "metadata": {},
   "outputs": [],
   "source": [
    "vendas_tecnologia = {'iphone': 15000, 'samsung galaxy': 12000, 'tv samsung': 10000, 'ps5': 14300, 'tablet': 1720, 'ipad': 1000, 'tv philco': 2500, 'notebook hp': 1000, 'notebook dell': 17000, 'notebook asus': 2450}"
   ]
  },
  {
   "cell_type": "code",
   "execution_count": 12,
   "id": "6b3d1654",
   "metadata": {},
   "outputs": [
    {
     "name": "stdout",
     "output_type": "stream",
     "text": [
      "iphone: 15000 unidades\n",
      "samsung galaxy: 12000 unidades\n",
      "tv samsung: 10000 unidades\n",
      "ps5: 14300 unidades\n",
      "tablet: 1720 unidades\n",
      "ipad: 1000 unidades\n",
      "tv philco: 2500 unidades\n",
      "notebook hp: 1000 unidades\n",
      "notebook dell: 17000 unidades\n",
      "notebook asus: 2450 unidades\n"
     ]
    }
   ],
   "source": [
    "for chave in  vendas_tecnologia:\n",
    "    print('{}: {} unidades'.format(chave, vendas_tecnologia[chave]))"
   ]
  },
  {
   "cell_type": "markdown",
   "id": "88d8a53f",
   "metadata": {},
   "source": [
    "### Qual o total de notebook vendidos?"
   ]
  },
  {
   "cell_type": "code",
   "execution_count": 14,
   "id": "b200856a",
   "metadata": {},
   "outputs": [
    {
     "name": "stdout",
     "output_type": "stream",
     "text": [
      "20450\n"
     ]
    }
   ],
   "source": [
    "total_notebooks = 0\n",
    "for chave in vendas_tecnologia:\n",
    "    if 'notebook' in chave:\n",
    "        total_notebooks += vendas_tecnologia[chave]\n",
    "print(total_notebooks)"
   ]
  },
  {
   "cell_type": "markdown",
   "id": "bfc25dd3",
   "metadata": {},
   "source": [
    "# Exercicios"
   ]
  },
  {
   "cell_type": "markdown",
   "id": "12f923d6",
   "metadata": {},
   "source": [
    "## Identificando Locais de Risco\n",
    "\n",
    "Digamos que você está construindo um programa para identificar níveis de CO2 (gás carbônico) em determinados locais para evitar potenciais acidentes. Em cada um desses locais a sua empresa tem 5 sensores que captam o nível de CO2 do local.\n",
    "\n",
    "Os níveis normais de CO2 são em média 350. O nível de CO2 de um local é dado pela média captada pelos 5 sensores.\n",
    "\n",
    "Isso significa que se tivermos os 5 sensores do Rio de Janeiro marcando: 350, 400, 450, 350, 300, o nível de CO2 do Rio de Janeiro será dado por: (350 + 400 + 450 + 350 + 300) / 5 = 370.\n",
    "\n",
    "Caso o nível seja maior do que 450, um aviso deve ser exibido pelo seu programa dizendo, por exemplo: Rio de Janeiro está com níveis altíssimos de CO2 (490), chamar equipe especializada para verificar a região.\n",
    "\n",
    "Os resultados dos sensores são monitorados frequentemente e são dados para o sistema em forma de dicionário:"
   ]
  },
  {
   "cell_type": "code",
   "execution_count": 15,
   "id": "e015b668",
   "metadata": {},
   "outputs": [],
   "source": [
    "niveis_co2 = {\n",
    "    'AC': [325,405,429,486,402],\n",
    "    'AL': [492,495,310,407,388],\n",
    "    'AP': [507,503,368,338,400],\n",
    "    'AM': [429,456,352,377,363],\n",
    "    'BA': [321,508,372,490,412],\n",
    "    'CE': [424,328,425,516,480],\n",
    "    'ES': [449,506,461,337,336],\n",
    "    'GO': [425,460,385,485,460],\n",
    "    'MA': [361,310,344,425,490],\n",
    "    'MT': [358,402,425,386,379],\n",
    "    'MS': [324,357,441,405,427],\n",
    "    'MG': [345,367,391,427,516],\n",
    "    'PA': [479,514,392,493,329],\n",
    "    'PB': [418,499,317,302,476],\n",
    "    'PR': [420,508,419,396,327],\n",
    "    'PE': [404,444,495,320,343],\n",
    "    'PI': [513,513,304,377,475],\n",
    "    'RJ': [502,481,492,502,506],\n",
    "    'RN': [446,437,519,356,317],\n",
    "    'RS': [427,518,459,317,321],\n",
    "    'RO': [517,466,512,326,458],\n",
    "    'RR': [466,495,469,495,310],\n",
    "    'SC': [495,436,382,483,479],\n",
    "    'SP': [495,407,362,389,317],\n",
    "    'SE': [508,351,334,389,418],\n",
    "    'TO': [339,490,304,488,419],\n",
    "    'DF': [376,516,320,310,518], \n",
    "}"
   ]
  },
  {
   "cell_type": "code",
   "execution_count": 27,
   "id": "db3e8602",
   "metadata": {},
   "outputs": [
    {
     "name": "stdout",
     "output_type": "stream",
     "text": [
      "RJ está com niveis elevados de co2(496.6)\n",
      "RO está com niveis elevados de co2(455.8)\n",
      "SC está com niveis elevados de co2(455.0)\n"
     ]
    }
   ],
   "source": [
    "for estado in niveis_co2:\n",
    "    qtd_sensores = len(niveis_co2[estado])\n",
    "    total_co2 = sum(niveis_co2[estado])\n",
    "    media_co2 = total_co2 / qtd_sensores\n",
    "    if media_co2 > 450:\n",
    "        print('{} está com niveis elevados de co2({})'.format(estado, media_co2))"
   ]
  },
  {
   "cell_type": "markdown",
   "id": "fe014d63",
   "metadata": {},
   "source": [
    "## Método .items() para transformar dicionarios em tuplas"
   ]
  },
  {
   "cell_type": "code",
   "execution_count": 11,
   "id": "e2c8e461",
   "metadata": {},
   "outputs": [],
   "source": [
    "vendas_tecnologia = {'iphone': 15000, 'samsung galaxy': 12000, 'tv samsung': 10000, 'ps5': 14300, 'tablet': 1720, 'ipad': 1000, 'tv philco': 2500, 'notebook hp': 1000, 'notebook dell': 17000, 'notebook asus': 2450}"
   ]
  },
  {
   "cell_type": "code",
   "execution_count": 12,
   "id": "1b08dd2a",
   "metadata": {},
   "outputs": [
    {
     "name": "stdout",
     "output_type": "stream",
     "text": [
      "('iphone', 15000)\n",
      "('samsung galaxy', 12000)\n",
      "('tv samsung', 10000)\n",
      "('ps5', 14300)\n",
      "('tablet', 1720)\n",
      "('ipad', 1000)\n",
      "('tv philco', 2500)\n",
      "('notebook hp', 1000)\n",
      "('notebook dell', 17000)\n",
      "('notebook asus', 2450)\n"
     ]
    }
   ],
   "source": [
    "for item in vendas_tecnologia.items():\n",
    "    print(item)"
   ]
  },
  {
   "cell_type": "code",
   "execution_count": 13,
   "id": "ddf972c0",
   "metadata": {},
   "outputs": [
    {
     "name": "stdout",
     "output_type": "stream",
     "text": [
      "iphone : 15000\n",
      "samsung galaxy : 12000\n",
      "tv samsung : 10000\n",
      "ps5 : 14300\n",
      "tablet : 1720\n",
      "ipad : 1000\n",
      "tv philco : 2500\n",
      "notebook hp : 1000\n",
      "notebook dell : 17000\n",
      "notebook asus : 2450\n"
     ]
    }
   ],
   "source": [
    "for produto, qtd in vendas_tecnologia.items():\n",
    "    print(produto, \":\", qtd)"
   ]
  },
  {
   "cell_type": "markdown",
   "id": "fe884c2e",
   "metadata": {},
   "source": [
    "### Quais produtos venderam mais de 5000?"
   ]
  },
  {
   "cell_type": "code",
   "execution_count": 18,
   "id": "5c22f3d3",
   "metadata": {},
   "outputs": [
    {
     "name": "stdout",
     "output_type": "stream",
     "text": [
      "iphone : 15000\n",
      "samsung galaxy : 12000\n",
      "tv samsung : 10000\n",
      "ps5 : 14300\n",
      "notebook dell : 17000\n"
     ]
    }
   ],
   "source": [
    "for produto, qtd in vendas_tecnologia.items():\n",
    "    if qtd > 5000:\n",
    "        print(produto, \":\", qtd)\n",
    "        "
   ]
  },
  {
   "cell_type": "code",
   "execution_count": 20,
   "id": "e1d44fd4",
   "metadata": {},
   "outputs": [
    {
     "name": "stdout",
     "output_type": "stream",
     "text": [
      "dict_keys(['iphone', 'samsung galaxy', 'tv samsung', 'ps5', 'tablet', 'ipad', 'tv philco', 'notebook hp', 'notebook dell', 'notebook asus'])\n"
     ]
    }
   ],
   "source": [
    "#Keys() retorna os valores das chaves\n",
    "print(vendas_tecnologia.keys())"
   ]
  },
  {
   "cell_type": "code",
   "execution_count": 21,
   "id": "7b21f58f",
   "metadata": {},
   "outputs": [
    {
     "name": "stdout",
     "output_type": "stream",
     "text": [
      "dict_values([15000, 12000, 10000, 14300, 1720, 1000, 2500, 1000, 17000, 2450])\n"
     ]
    }
   ],
   "source": [
    "#Values() retorna os valores do dicionario\n",
    "print(vendas_tecnologia.values())"
   ]
  },
  {
   "cell_type": "code",
   "execution_count": null,
   "id": "f880e261",
   "metadata": {},
   "outputs": [],
   "source": []
  }
 ],
 "metadata": {
  "kernelspec": {
   "display_name": "Python 3 (ipykernel)",
   "language": "python",
   "name": "python3"
  },
  "language_info": {
   "codemirror_mode": {
    "name": "ipython",
    "version": 3
   },
   "file_extension": ".py",
   "mimetype": "text/x-python",
   "name": "python",
   "nbconvert_exporter": "python",
   "pygments_lexer": "ipython3",
   "version": "3.9.7"
  }
 },
 "nbformat": 4,
 "nbformat_minor": 5
}
